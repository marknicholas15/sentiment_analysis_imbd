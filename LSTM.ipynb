{
 "cells": [
  {
   "cell_type": "code",
   "execution_count": 1,
   "id": "signal-daisy",
   "metadata": {},
   "outputs": [],
   "source": [
    "import glob\n",
    "import os\n",
    "from random import shuffle\n",
    "from nltk.tokenize import TreebankWordTokenizer"
   ]
  },
  {
   "cell_type": "code",
   "execution_count": 2,
   "id": "beautiful-mercy",
   "metadata": {},
   "outputs": [],
   "source": [
    "from gensim.models.keyedvectors import KeyedVectors\n",
    "word_vectors = KeyedVectors.load_word2vec_format(\\\n",
    "'C:/Users/markn/Artificial_Intelligence/NLP/GoogleNews\\\n",
    "-vectors-negative300.bin.gz', binary=True, limit=1000000)"
   ]
  },
  {
   "cell_type": "code",
   "execution_count": 3,
   "id": "comparable-accent",
   "metadata": {},
   "outputs": [],
   "source": [
    "def pre_process_data(filepath):\n",
    "    positive_path = os.path.join(filepath, 'pos')\n",
    "    negative_path = os.path.join(filepath, 'neg')\n",
    "    pos_label = 1\n",
    "    neg_label = 0\n",
    "    dataset = []\n",
    "    \n",
    "    for filename in glob.glob(os.path.join(positive_path, '*.txt')):\n",
    "        with open(filename, 'r', errors='ignore') as f:\n",
    "            dataset.append((pos_label, f.read()))\n",
    "    \n",
    "    for filename in glob.glob(os.path.join(negative_path, '*.txt')):\n",
    "        with open(filename, 'r', errors='ignore') as f:\n",
    "            dataset.append((neg_label, f.read()))\n",
    "    \n",
    "    shuffle(dataset)\n",
    "    \n",
    "    return dataset"
   ]
  },
  {
   "cell_type": "code",
   "execution_count": 4,
   "id": "transparent-edgar",
   "metadata": {},
   "outputs": [],
   "source": [
    "def tokenize_and_vectorize(dataset):\n",
    "    tokenizer = TreebankWordTokenizer()\n",
    "    vectorized_data = []\n",
    "    for sample in dataset:\n",
    "        tokens = tokenizer.tokenize(sample[1])\n",
    "        sample_vecs = []\n",
    "        for token in tokens:\n",
    "            try:\n",
    "                sample_vecs.append(word_vectors[token])\n",
    "            except KeyError:\n",
    "                pass\n",
    "        vectorized_data.append(sample_vecs)\n",
    "    return vectorized_data"
   ]
  },
  {
   "cell_type": "code",
   "execution_count": 5,
   "id": "gothic-empire",
   "metadata": {},
   "outputs": [],
   "source": [
    "def collect_expected(dataset):\n",
    "    expected= []\n",
    "    for sample in dataset:\n",
    "        expected.append(sample[0])\n",
    "    return expected"
   ]
  },
  {
   "cell_type": "code",
   "execution_count": 6,
   "id": "photographic-bikini",
   "metadata": {},
   "outputs": [],
   "source": [
    "dataset = pre_process_data('train')"
   ]
  },
  {
   "cell_type": "code",
   "execution_count": 7,
   "id": "infinite-polymer",
   "metadata": {},
   "outputs": [],
   "source": [
    "vectorized_data = tokenize_and_vectorize(dataset)\n",
    "expected = collect_expected(dataset)"
   ]
  },
  {
   "cell_type": "code",
   "execution_count": 8,
   "id": "aggregate-poverty",
   "metadata": {},
   "outputs": [],
   "source": [
    "from sklearn.model_selection import train_test_split\n",
    "X_train, X_test, y_train, y_test = train_test_split(vectorized_data,\\\n",
    "                                                   expected, test_size=0.2,\n",
    "                                                   random_state=42)"
   ]
  },
  {
   "cell_type": "code",
   "execution_count": 9,
   "id": "concrete-middle",
   "metadata": {},
   "outputs": [],
   "source": [
    "maxlen = 400\n",
    "embedding_dims = 300\n",
    "epochs = 2\n",
    "batch_size = 32"
   ]
  },
  {
   "cell_type": "code",
   "execution_count": 10,
   "id": "brutal-conversation",
   "metadata": {},
   "outputs": [],
   "source": [
    "def pad_trunc(data, maxlen):\n",
    "    new_data = []\n",
    "    zero_vector = []\n",
    "    for _ in range(len(data[0][0])):\n",
    "        zero_vector.append(0.0)\n",
    "    \n",
    "    for sample in data:\n",
    "        if len(sample) > maxlen:\n",
    "            temp = sample[:maxlen]\n",
    "        elif len(sample) < maxlen:\n",
    "            temp = sample\n",
    "            additional_elems = maxlen - len(sample)\n",
    "            for _ in range(additional_elems):\n",
    "                temp.append(zero_vector)\n",
    "        \n",
    "        else:\n",
    "            temp = sample\n",
    "        new_data.append(temp)\n",
    "    return new_data"
   ]
  },
  {
   "cell_type": "code",
   "execution_count": null,
   "id": "accepting-melbourne",
   "metadata": {},
   "outputs": [],
   "source": [
    "import numpy as np\n",
    "X_train = pad_trunc(X_train, maxlen)\n",
    "X_test = pad_trunc(X_test, maxlen)\n",
    "\n",
    "X_train = np.reshape(X_train, (len(X_train), maxlen, embedding_dims))\n",
    "y_train = np.array(y_train)\n",
    "\n",
    "X_test = np.reshape(X_test, (len(X_test), maxlen, embedding_dims))\n",
    "y_test = np.array(y_test)"
   ]
  },
  {
   "cell_type": "code",
   "execution_count": null,
   "id": "metropolitan-orbit",
   "metadata": {},
   "outputs": [],
   "source": [
    "from keras.models import Sequential\n",
    "from keras.layers import Dense, Dropout, Flatten, SimpleRNN\n",
    "num_neurons = 50\n",
    "model = Sequential()"
   ]
  },
  {
   "cell_type": "code",
   "execution_count": null,
   "id": "noble-preview",
   "metadata": {},
   "outputs": [],
   "source": [
    "model.add(SimpleRNN(num_neurons,\n",
    "                   return_sequences=True,\n",
    "                   input_shape=(maxlen, embedding_dims)))"
   ]
  },
  {
   "cell_type": "code",
   "execution_count": null,
   "id": "fewer-xerox",
   "metadata": {},
   "outputs": [],
   "source": [
    "model.add(Dropout(0.2))\n",
    "model.add(Flatten())\n",
    "model.add(Dense(1, activation='sigmoid'))"
   ]
  },
  {
   "cell_type": "code",
   "execution_count": null,
   "id": "several-worry",
   "metadata": {},
   "outputs": [],
   "source": [
    "model.summary()"
   ]
  },
  {
   "cell_type": "code",
   "execution_count": null,
   "id": "portuguese-bahrain",
   "metadata": {},
   "outputs": [],
   "source": [
    "model.compile('rmsprop', 'binary_crossentropy', metrics=['accuracy'])"
   ]
  },
  {
   "cell_type": "code",
   "execution_count": null,
   "id": "identical-stanley",
   "metadata": {},
   "outputs": [],
   "source": [
    "model.summary()"
   ]
  },
  {
   "cell_type": "code",
   "execution_count": null,
   "id": "abroad-rings",
   "metadata": {},
   "outputs": [],
   "source": [
    "model.fit(X_train, y_train, batch_size=batch_size, epochs=epochs,\n",
    "         validation_data=(X_test, y_test), callbacks=[callbacks])"
   ]
  },
  {
   "cell_type": "markdown",
   "id": "applied-twins",
   "metadata": {},
   "source": [
    "## LSTM"
   ]
  },
  {
   "cell_type": "code",
   "execution_count": null,
   "id": "enabling-oliver",
   "metadata": {},
   "outputs": [],
   "source": [
    "maxlen = 400\n",
    "embedding_dims = 300\n",
    "batch_size = 32\n",
    "epochs = 2\n",
    "from keras.models import Sequential\n",
    "from keras.layers import Dense, Dropout, Flatten, LSTM\n",
    "num_neurons = 50\n",
    "model = Sequential()\n",
    "model.add(LSTM(num_neurons, return_sequences=True,\n",
    "              input_shape=(maxlen, embedding_dims)))\n",
    "model.add(Dropout(0.2))\n",
    "model.add(Flatten())\n",
    "model.add(Dense(1, activation='sigmoid'))\n",
    "model.compile('rmsprop', 'binary_crossentropy', metrics=['accuracy'])\n",
    "model.summary()"
   ]
  },
  {
   "cell_type": "code",
   "execution_count": null,
   "id": "friendly-pollution",
   "metadata": {},
   "outputs": [],
   "source": [
    "import numpy as np"
   ]
  },
  {
   "cell_type": "code",
   "execution_count": null,
   "id": "endless-botswana",
   "metadata": {},
   "outputs": [],
   "source": [
    "dataset = pre_process_data('train')\n",
    "vectorized_data = tokenize_and_vectorize(dataset)\n",
    "expected = collect_expected(dataset)"
   ]
  },
  {
   "cell_type": "code",
   "execution_count": null,
   "id": "herbal-cartridge",
   "metadata": {},
   "outputs": [],
   "source": [
    "maxlen = 400\n",
    "batch_size = 32\n",
    "embedding_dims = 300\n",
    "epochs = 2"
   ]
  },
  {
   "cell_type": "code",
   "execution_count": null,
   "id": "square-store",
   "metadata": {},
   "outputs": [],
   "source": [
    "X_train = pad_trunc(X_train, maxlen)\n",
    "X_test = pad_trunc(X_test, maxlen)\n",
    "X_train = np.reshape(X_train, (len(X_train), maxlen, embedding_dims))\n",
    "X_test = np.reshape(X_test, (len(X_test), maxlen, embedding_dims))\n",
    "y_train = np.array(y_train)\n",
    "y_test = np.array(y_test)"
   ]
  },
  {
   "cell_type": "code",
   "execution_count": null,
   "id": "bronze-classification",
   "metadata": {},
   "outputs": [],
   "source": [
    "from keras.models import Sequential\n",
    "from keras.layers import Dense, LSTM, Flatten, Dropout\n",
    "num_neurons = 50\n",
    "model = Sequential()\n",
    "model.add(LSTM(num_neurons, return_sequences=True,\n",
    "              input_shape=(maxlen, embedding_dims)))\n",
    "model.add(Dropout(0.2))\n",
    "model.add(Flatten())"
   ]
  },
  {
   "cell_type": "code",
   "execution_count": null,
   "id": "saving-climate",
   "metadata": {},
   "outputs": [],
   "source": [
    "model.add(Dense(1, activation='sigmoid'))\n",
    "model.compile('rmsprop', 'binary_crossentropy', metrics=['accuracy'])\n",
    "history = model.fit(X_train, y_train, epochs=epochs, validation_data=\\\n",
    "                   (X_test, y_test))"
   ]
  },
  {
   "cell_type": "code",
   "execution_count": null,
   "id": "dental-sandwich",
   "metadata": {},
   "outputs": [],
   "source": [
    "model.summary()"
   ]
  },
  {
   "cell_type": "code",
   "execution_count": null,
   "id": "double-genetics",
   "metadata": {},
   "outputs": [],
   "source": [
    "model_structure = model.to_json()\n",
    "with open(\"lstm_model.json\", \"w\") as json_file:\n",
    "    json_file.write(model_structure)\n",
    "\n",
    "model.save_weights(\"lstm_weights.h5\")"
   ]
  },
  {
   "cell_type": "code",
   "execution_count": null,
   "id": "breeding-fitness",
   "metadata": {},
   "outputs": [],
   "source": [
    "from keras.models import model_from_json\n",
    "with open(\"lstm_model.json\", 'r') as json_file:\n",
    "    json_string = json_file.read()\n",
    "model = model_from_json(json_string)\n",
    "\n",
    "model.load_weights('lstm_weights.h5')"
   ]
  },
  {
   "cell_type": "code",
   "execution_count": null,
   "id": "intermediate-wilson",
   "metadata": {},
   "outputs": [],
   "source": [
    "sample1 = \"\"\"I hate that the dismal weather had me down for so long,\n",
    "when will it break! Ugh, when does happiness return? The sun is blinding and\n",
    "the puffy clouds are too thin. I cant wait for the weekend\"\"\""
   ]
  },
  {
   "cell_type": "code",
   "execution_count": null,
   "id": "persistent-insider",
   "metadata": {},
   "outputs": [],
   "source": [
    "vec_list = tokenize_and_vectorize([(1, sample1)])\n",
    "test_vec_list = pad_trunc(vec_list, maxlen)\n",
    "test_vec = np.reshape(test_vec_list, (len(test_vec_list), maxlen, \n",
    "                                      embedding_dims))"
   ]
  },
  {
   "cell_type": "code",
   "execution_count": null,
   "id": "specific-sender",
   "metadata": {},
   "outputs": [],
   "source": [
    "print(\"Sample's sentiment, 1-pos, 2-neg: {}\".\\\n",
    "      format(model.predict_classes(test_vec)))"
   ]
  },
  {
   "cell_type": "code",
   "execution_count": null,
   "id": "expected-chart",
   "metadata": {},
   "outputs": [],
   "source": [
    "print(\"RAW output of the sigmoid function: {}\".format(model.predict(test_vec)))"
   ]
  },
  {
   "cell_type": "code",
   "execution_count": null,
   "id": "removed-teens",
   "metadata": {},
   "outputs": [],
   "source": [
    "def test_len(data, maxlen):\n",
    "    total_len = truncated = exact = padded = 0\n",
    "    for sample in data:\n",
    "        total_len += len(sample)\n",
    "        if len(sample) > maxlen:\n",
    "            truncated += 1\n",
    "        elif len(sample) < len(sample):\n",
    "            padded += 1\n",
    "        else:\n",
    "             exact += 1\n",
    "    print(\"Padded: {}\".format(padded))\n",
    "    print(\"Equal: {}\".format(exact))\n",
    "    print(\"Truncated: {}\".format(truncated))\n",
    "    print(\"Average Length: {}\".format(total_len/len(data)))"
   ]
  },
  {
   "cell_type": "code",
   "execution_count": null,
   "id": "institutional-acceptance",
   "metadata": {},
   "outputs": [],
   "source": [
    "test_len(vectorized_data, 400)"
   ]
  },
  {
   "cell_type": "code",
   "execution_count": null,
   "id": "conscious-grenada",
   "metadata": {},
   "outputs": [],
   "source": [
    "maxlen = 210"
   ]
  },
  {
   "cell_type": "code",
   "execution_count": null,
   "id": "middle-argentina",
   "metadata": {},
   "outputs": [],
   "source": []
  },
  {
   "cell_type": "code",
   "execution_count": null,
   "id": "informal-cause",
   "metadata": {},
   "outputs": [],
   "source": []
  }
 ],
 "metadata": {
  "kernelspec": {
   "display_name": "Python 3.8 (tensorflow)",
   "language": "python",
   "name": "tensorflow"
  },
  "language_info": {
   "codemirror_mode": {
    "name": "ipython",
    "version": 3
   },
   "file_extension": ".py",
   "mimetype": "text/x-python",
   "name": "python",
   "nbconvert_exporter": "python",
   "pygments_lexer": "ipython3",
   "version": "3.7.9"
  }
 },
 "nbformat": 4,
 "nbformat_minor": 5
}
